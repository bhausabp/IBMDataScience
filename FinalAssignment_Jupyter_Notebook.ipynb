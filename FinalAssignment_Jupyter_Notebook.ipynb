{
 "cells": [
  {
   "cell_type": "markdown",
   "metadata": {},
   "source": [
    "<center>\n",
    "    <img src=\"https://cf-courses-data.s3.us.cloud-object-storage.appdomain.cloud/IBMDeveloperSkillsNetwork-DS0105EN-SkillsNetwork/labs/Module2/images/SN_web_lightmode.png\" width=\"300\" alt=\"cognitiveclass.ai logo\">\n",
    "</center>\n"
   ]
  },
  {
   "cell_type": "markdown",
   "metadata": {},
   "source": [
    "#### Add your code below following the instructions given in the course\n"
   ]
  },
  {
   "cell_type": "markdown",
   "metadata": {},
   "source": [
    "# My Jupyter Notebook on IBM Watson Studio"
   ]
  },
  {
   "cell_type": "markdown",
   "metadata": {},
   "source": [
    "**Bhausab Paramanatti** <br>\n",
    "I am currently working as a business analyst"
   ]
  },
  {
   "cell_type": "markdown",
   "metadata": {},
   "source": [
    "*I am interestd in data science because I enjoy coding and working with data to find solution of the problem. So, working as a data scientist I would get to do programming and work with large data set to find solution to various problems.*"
   ]
  },
  {
   "cell_type": "markdown",
   "metadata": {},
   "source": [
    "### The code below will print out my name and my occupation."
   ]
  },
  {
   "cell_type": "code",
   "execution_count": 1,
   "metadata": {},
   "outputs": [
    {
     "name": "stdout",
     "output_type": "stream",
     "text": [
      "I am  Bhausab  and currently I am working as a  Business Analyst\n"
     ]
    }
   ],
   "source": [
    "name = \"Bhausab\"\n",
    "occupation = \"Business Analyst\"\n",
    "print(\"I am \", name, \" and currently I am working as a \", occupation)"
   ]
  },
  {
   "cell_type": "markdown",
   "metadata": {},
   "source": [
    "Hi everyone, today I would like to share one thing that enjoys a lot apart from work and that is food. \n",
    "I am moved to USA for my master degree in 2017, and from the minute in landed here i was in the search of great food. Being an Indian I had many diet restriction.\n",
    "I used various application like yelp. It easy to use with following step as mentioned below.\n",
    "1. You can go to yelp website using the __link (https://www.yelp.com/)__\n",
    "2. From the search bar at the top select Restaurants, Delivery or Takeouts which ever works for you.\n",
    "3. lastly select the locations, and bang you have the list of all restaurants with all the review to decide your fav food for the now. \n",
    "\n",
    "\n",
    "***"
   ]
  },
  {
   "cell_type": "code",
   "execution_count": null,
   "metadata": {},
   "outputs": [],
   "source": []
  }
 ],
 "metadata": {
  "kernelspec": {
   "display_name": "Python",
   "language": "python",
   "name": "conda-env-python-py"
  },
  "language_info": {
   "codemirror_mode": {
    "name": "ipython",
    "version": 3
   },
   "file_extension": ".py",
   "mimetype": "text/x-python",
   "name": "python",
   "nbconvert_exporter": "python",
   "pygments_lexer": "ipython3",
   "version": "3.7.12"
  }
 },
 "nbformat": 4,
 "nbformat_minor": 4
}
